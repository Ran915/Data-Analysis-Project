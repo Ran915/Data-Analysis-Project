{
 "cells": [
  {
   "cell_type": "markdown",
   "metadata": {},
   "source": [
    "Instructions: You may need to download chromedriver for this scrapping. It can be downloaded for free. The link is https://chromedriver.storage.googleapis.com/index.html?path=2.44/\n",
    "After downloading, please place the chromedriver.exe under the same folder of this file."
   ]
  },
  {
   "cell_type": "code",
   "execution_count": 7,
   "metadata": {
    "collapsed": true
   },
   "outputs": [],
   "source": [
    "## importing packages\n",
    "from bs4 import BeautifulSoup\n",
    "from selenium import webdriver\n",
    "import time"
   ]
  },
  {
   "cell_type": "code",
   "execution_count": 2,
   "metadata": {
    "collapsed": true
   },
   "outputs": [],
   "source": [
    "## getting url\n",
    "url = 'https://tools.usps.com/zip-code-lookup.htm?bycitystate'"
   ]
  },
  {
   "cell_type": "code",
   "execution_count": 3,
   "metadata": {
    "collapsed": true
   },
   "outputs": [],
   "source": [
    "## define function to scrape data\n",
    "def getZip(url,City=\"New York City\"):\n",
    "    options = webdriver.ChromeOptions()\n",
    "    ## no pop-up window\n",
    "    options.add_argument('--headless')\n",
    "    ## set up browser\n",
    "    browser = webdriver.Chrome(executable_path=\"./chromedriver\",options=options)\n",
    "    ## get url using the browser\n",
    "    browser.get(url)\n",
    "    innerHTML = browser.page_source #returns the inner HTML as a string\n",
    "\n",
    "    soup = BeautifulSoup(innerHTML,'lxml')\n",
    "    ## select state\n",
    "    browser.find_element_by_xpath(\"//select[@name='tState-city-state']/option[text()='NY - New York']\").click()\n",
    "    ## input City in the city box\n",
    "    inputCity = browser.find_element_by_id('tCity-city-state')\n",
    "    inputCity.send_keys(City)\n",
    "\n",
    "    button = browser.find_element_by_id('zip-by-city-and-state')\n",
    "    button.click()\n",
    "\n",
    "    soup = BeautifulSoup(browser.page_source,'lxml')\n",
    "    raw = soup.select('.city-state-result')\n",
    "    count = 0\n",
    "    ## Loading three times\n",
    "    while raw ==[] and count <3:\n",
    "        time.sleep(1)\n",
    "        count += 1\n",
    "        soup = BeautifulSoup(browser.page_source,'lxml')\n",
    "        raw = soup.select('.city-state-result')   \n",
    "        \n",
    "    zipList = [ tag.find('strong').text for tag in raw]\n",
    "\n",
    "    return zipList"
   ]
  },
  {
   "cell_type": "code",
   "execution_count": 5,
   "metadata": {
    "collapsed": true
   },
   "outputs": [],
   "source": [
    "cityList = ['New York', 'Brooklyn', 'Queens', 'Bronx', 'Staten Island']"
   ]
  },
  {
   "cell_type": "code",
   "execution_count": 8,
   "metadata": {},
   "outputs": [
    {
     "name": "stdout",
     "output_type": "stream",
     "text": [
      "145\n",
      "47\n",
      "73\n",
      "25\n",
      "14\n"
     ]
    }
   ],
   "source": [
    "zipList = []\n",
    "for i in cityList:\n",
    "    tmpZips = getZip(url,i)\n",
    "    print(len(tmpZips))\n",
    "    zipList += tmpZips"
   ]
  },
  {
   "cell_type": "code",
   "execution_count": 9,
   "metadata": {},
   "outputs": [
    {
     "data": {
      "text/plain": [
       "304"
      ]
     },
     "execution_count": 9,
     "metadata": {},
     "output_type": "execute_result"
    }
   ],
   "source": [
    "len(zipList)"
   ]
  },
  {
   "cell_type": "code",
   "execution_count": null,
   "metadata": {
    "collapsed": true
   },
   "outputs": [],
   "source": [
    "##If there is no NYCZipcode.csv in the folder, run the following code\n",
    "import pandas as pd\n",
    "#pd.DataFrame(zipList).to_csv('NYCZipcode.csv',index = False)"
   ]
  }
 ],
 "metadata": {
  "kernelspec": {
   "display_name": "Python 3",
   "language": "python",
   "name": "python3"
  },
  "language_info": {
   "codemirror_mode": {
    "name": "ipython",
    "version": 3
   },
   "file_extension": ".py",
   "mimetype": "text/x-python",
   "name": "python",
   "nbconvert_exporter": "python",
   "pygments_lexer": "ipython3",
   "version": "3.6.3"
  }
 },
 "nbformat": 4,
 "nbformat_minor": 2
}
